{
 "cells": [
  {
   "cell_type": "markdown",
   "metadata": {},
   "source": [
    "# 1N.2 Three Laws\n",
    "\n",
    "## 1N.2.1 Ohm's Law\n",
    "\n",
    "$ I=VR $\n",
    "\n",
    "Where:\n",
    "- `V` = voltage (volts)\n",
    "- `I` = current (amps)\n",
    "- `R` = resistance (ohms)\n",
    "\n",
    "### Voltage\n",
    "\n",
    "Voltage is the difference in electric _potential_, i.e. 1 volt is the work done that adds one joule of energy to one coulomb of charge.\n",
    "Voltage is a _relative_ measure. Often, we measure voltage relative to ground (or earth), but voltage can (and is) measured relative to any arbitrary reference point.\n",
    "\n",
    "### Resistors\n",
    "\n",
    "Resistors are things that obey Ohm's law.\n",
    "(This is all the book has to say about what resistors are.)\n",
    "\n",
    "Resistors restrict the flow of current through a circuit.\n",
    "Obviously, since current flows through them, they are also conductors.\n",
    "For example, a piece of wire has a very low resistance and a high conductivity, while a piece of wood has a very high resistance and a low conductivity.\n",
    "\n",
    "Resistance is inversely proportional to conducivity.\n",
    "\n",
    "$ Resistance = \\frac{1}{Conductivity} $\n",
    "\n",
    "#### Dynamic Resistance\n",
    "\n",
    "Not all devices obey Ohm's Law, for example, diodes and lamps.\n",
    "An extended version of Ohm's Law allows us to apply it to settings where it otherwise wouldn't work.\n",
    "The idea is to define a _local resistance_, the tangent to the slope of the device's `V-I` curve.\n",
    "\n",
    "$$ R_{dynamic} \\equiv \\Delta V / \\Delta I $$\n",
    "\n",
    "![](img\\Figure1N.4.jpg)\n",
    "\n",
    "#### Power in a Resistor\n",
    "\n",
    "`P` = watts\n",
    "\n",
    "$ P = IV $, but since $ V = IR $, per Ohm's Law  \n",
    "$ P = I(IR) $  \n",
    "$ P = I^2R $, and since $ I = V/R $  \n",
    "$ P = \\left(\\frac{V}{R}^2\\right) \\left(\\frac{R}{1}\\right) $  \n",
    "$ P = V^2/R $  \n",
    "\n",
    "Given a 15V power supply and a 1kΩ resistor rated to 1/4W, is it safe to use the power supply?"
   ]
  },
  {
   "cell_type": "code",
   "execution_count": 10,
   "metadata": {},
   "outputs": [
    {
     "data": {
      "text/plain": [
       "0.225000000000000*watt"
      ]
     },
     "execution_count": 10,
     "metadata": {},
     "output_type": "execute_result"
    }
   ],
   "source": [
    "# P = V^2/R\n",
    "p=(15 * units.electric_potential.volt)^2 / (1 * units.resistance.ohm * units.si_prefixes.kilo)\n",
    "sage.symbolic.units.convert(p, units.power.watt) * 1.0"
   ]
  },
  {
   "cell_type": "markdown",
   "metadata": {},
   "source": [
    "0.225W < 0.25W, so this is indeed a safe power supply to use with a 1/4W rated resistor."
   ]
  },
  {
   "cell_type": "markdown",
   "metadata": {},
   "source": [
    "### Other Arrangements of Ohm's Law\n",
    "\n",
    "Not from the book, but for quick reference.\n",
    "\n",
    "$$ I = V/R $$  \n",
    "$$ V = IR  $$  \n",
    "$$ R = V/I $$  "
   ]
  },
  {
   "cell_type": "code",
   "execution_count": null,
   "metadata": {},
   "outputs": [],
   "source": []
  }
 ],
 "metadata": {
  "kernelspec": {
   "display_name": "SageMath 8.2",
   "language": "",
   "name": "sagemath"
  },
  "language_info": {
   "codemirror_mode": {
    "name": "ipython",
    "version": 2
   },
   "file_extension": ".py",
   "mimetype": "text/x-python",
   "name": "python",
   "nbconvert_exporter": "python",
   "pygments_lexer": "ipython2",
   "version": "2.7.14"
  }
 },
 "nbformat": 4,
 "nbformat_minor": 2
}
